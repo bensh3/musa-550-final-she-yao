{
 "cells": [
  {
   "cell_type": "code",
   "execution_count": 208,
   "metadata": {},
   "outputs": [],
   "source": [
    "import carto2gpd\n",
    "import cenpy\n",
    "import dask.dataframe as dd\n",
    "import numpy as np\n",
    "import pandas as pd\n",
    "import geopandas as gpd\n",
    "import datetime as dt\n",
    "import missingno as msno\n",
    "\n",
    "import hvplot.pandas\n",
    "import holoviews as hv\n",
    "\n",
    "from io import BytesIO\n",
    "import gzip\n",
    "from urllib.request import urlopen"
   ]
  },
  {
   "cell_type": "code",
   "execution_count": 2,
   "metadata": {},
   "outputs": [],
   "source": [
    "states = ['pa','il','ga','ca']\n",
    "years = ['2009','2010','2011','2012','2013','2014','2015','2016','2017','2018','2019']"
   ]
  },
  {
   "cell_type": "markdown",
   "metadata": {},
   "source": [
    "# Part 1: Cluster Analysis"
   ]
  },
  {
   "cell_type": "code",
   "execution_count": 139,
   "metadata": {},
   "outputs": [],
   "source": [
    "url = \"https://lehd.ces.census.gov/data/lodes/LODES7/pa/wac/pa_wac_S000_JT00_\"\n",
    "wac = dd.concat([pd.read_csv(gzip.open(BytesIO(urlopen(url+year+\".csv.gz\").read()))).assign(year=year) for year in years])\n",
    "wac['w_geocode'] = wac['w_geocode'].astype('str').str[:12]\n",
    "wac.compute()"
   ]
  },
  {
   "cell_type": "code",
   "execution_count": 153,
   "metadata": {},
   "outputs": [],
   "source": [
    "phl_bg = gpd.read_file(\"bg/tl_2019_42_bg/tl_2019_42_bg.shp\").query(\"COUNTYFP in ['017','029','045','091','101']\").to_crs('EPSG:3857')"
   ]
  },
  {
   "cell_type": "code",
   "execution_count": 180,
   "metadata": {},
   "outputs": [],
   "source": [
    "wac_geo = phl_bg[['GEOID','geometry']].merge(wac.compute(), left_on='GEOID', right_on='w_geocode', how='inner')\n",
    "wac_all = wac_geo.groupby('GEOID')['C000'].sum().reset_index()"
   ]
  },
  {
   "cell_type": "code",
   "execution_count": 181,
   "metadata": {},
   "outputs": [
    {
     "name": "stderr",
     "output_type": "stream",
     "text": [
      "WARNING:param.Parameterized: Use method 'warning' via param namespace \n",
      "WARNING:param.main: geo option cannot be used with kind='line' plot type. Geographic plots are only supported for following plot types: ['bivariate', 'contour', 'contourf', 'dataset', 'hexbin', 'image', 'labels', 'paths', 'points', 'points', 'polygons', 'quadmesh', 'rgb', 'vectorfield']\n",
      "WARNING:param.main: hover_fill_color option not found for line plot; similar options include: ['hover_color', 'hover_line_color']\n"
     ]
    },
    {
     "data": {
      "text/html": [
       "<b>ValueError</b><i> [Call holoviews.ipython.show_traceback() for details]</i><br>Mapping a dimension to the \"color\" style option is not supported by the Curve element using the bokeh backend. To map the \"C000\" dimension to the color use a groupby operation to overlay your data along the dimension."
      ],
      "text/plain": [
       ":Curve   [index]   (C000)"
      ]
     },
     "execution_count": 181,
     "metadata": {},
     "output_type": "execute_result"
    }
   ],
   "source": [
    "wac_all.hvplot(geo=True,\n",
    "                c=\"C000\",\n",
    "                crs=3857,\n",
    "                hover_fill_color=\"gray\",\n",
    "                width=600, \n",
    "                height=400, \n",
    "                cmap='viridis')"
   ]
  }
 ],
 "metadata": {
  "interpreter": {
   "hash": "bf3ea6aaf424934a07b160f87c7cf06fa269ee38c446bbd14a1e443e74b45d47"
  },
  "kernelspec": {
   "display_name": "Python 3.8.12 64-bit ('musa-550-fall-2021': conda)",
   "language": "python",
   "name": "python3"
  },
  "language_info": {
   "codemirror_mode": {
    "name": "ipython",
    "version": 3
   },
   "file_extension": ".py",
   "mimetype": "text/x-python",
   "name": "python",
   "nbconvert_exporter": "python",
   "pygments_lexer": "ipython3",
   "version": "3.8.12"
  },
  "orig_nbformat": 4
 },
 "nbformat": 4,
 "nbformat_minor": 2
}
